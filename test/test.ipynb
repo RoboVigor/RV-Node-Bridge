{
 "cells": [
  {
   "cell_type": "code",
   "execution_count": 1,
   "metadata": {},
   "outputs": [],
   "source": [
    "import re\n",
    "import yaml"
   ]
  },
  {
   "cell_type": "code",
   "execution_count": 3,
   "metadata": {},
   "outputs": [],
   "source": [
    "with open('src/judge.yml', 'r', encoding=\"utf-8\") as file:\n",
    "    file_data = file.read()\n",
    "    data = yaml.safe_load(file_data)"
   ]
  },
  {
   "cell_type": "code",
   "execution_count": 13,
   "metadata": {},
   "outputs": [
    {
     "data": {
      "text/plain": [
       "'uint8_t game_type : 4;\\nuint8_t game_progress : 4; \\nuint16_t stage_remain_time;\\nuint64_t SyncTimeStamp;'"
      ]
     },
     "execution_count": 13,
     "metadata": {},
     "output_type": "execute_result"
    }
   ],
   "source": [
    "struct = data['protocols'][0]['struct']\n",
    "struct"
   ]
  },
  {
   "cell_type": "code",
   "execution_count": 35,
   "metadata": {},
   "outputs": [],
   "source": [
    "typeInfoTable = {\n",
    "    \"uint8_t\":{\"ros\":\"\", \"size\":1},\n",
    "    \"uint16_t\":{\"ros\":\"\", \"size\":2},\n",
    "    \"uint32_t\":{\"ros\":\"\", \"size\":4},\n",
    "    \"uint64_t\":{\"ros\":\"\", \"size\":8},\n",
    "    \"int\":{\"ros\":\"\", \"size\":2},\n",
    "    \"int8_t\":{\"ros\":\"\", \"size\":1},\n",
    "    \"int16_t\":{\"ros\":\"\", \"size\":2},\n",
    "    \"int32_t\":{\"ros\":\"\", \"size\":4},\n",
    "    \"int64_t\":{\"ros\":\"\", \"size\":8},\n",
    "    \"float\":{\"ros\":\"\", \"size\":4},\n",
    "    \"char\":{\"ros\":\"\", \"size\":1},\n",
    "}"
   ]
  },
  {
   "cell_type": "code",
   "execution_count": 68,
   "metadata": {},
   "outputs": [
    {
     "data": {
      "text/plain": [
       "'uint8_t game_type : 4;\\n            uint8_t game_progress : 3;\\n            uint16_t stage_remain_time;\\n            uint64_t SyncTimeStamp[3];\\n'"
      ]
     },
     "execution_count": 68,
     "metadata": {},
     "output_type": "execute_result"
    }
   ],
   "source": [
    "struct = '''uint8_t game_type : 4;\n",
    "            uint8_t game_progress : 3;\n",
    "            uint16_t stage_remain_time;\n",
    "            uint64_t SyncTimeStamp[3];\n",
    "'''\n",
    "struct"
   ]
  },
  {
   "cell_type": "code",
   "execution_count": 69,
   "metadata": {},
   "outputs": [
    {
     "data": {
      "text/plain": [
       "[{'type': 'uint8_t', 'key': 'game_type', 'arraysize': '', 'bitsize': '4'},\n",
       " {'type': 'uint8_t', 'key': 'game_progress', 'arraysize': '', 'bitsize': '3'},\n",
       " {'type': 'uint16_t',\n",
       "  'key': 'stage_remain_time',\n",
       "  'arraysize': '',\n",
       "  'bitsize': ''},\n",
       " {'type': 'uint64_t', 'key': 'SyncTimeStamp', 'arraysize': '3', 'bitsize': ''}]"
      ]
     },
     "execution_count": 69,
     "metadata": {},
     "output_type": "execute_result"
    }
   ],
   "source": [
    "r = re.compile('\\n*?(?P<type>\\S*?)\\s*?(?P<key>\\S*?)\\[?(?P<arraysize>\\d*?)\\]?\\s*?:?\\s*?(?P<bitsize>\\d*?);')\n",
    "structure = [m.groupdict() for m in r.finditer(struct)]\n",
    "structure"
   ]
  },
  {
   "cell_type": "code",
   "execution_count": 70,
   "metadata": {},
   "outputs": [
    {
     "data": {
      "text/plain": [
       "28"
      ]
     },
     "execution_count": 70,
     "metadata": {},
     "output_type": "execute_result"
    }
   ],
   "source": [
    "size = 0\n",
    "for item in structure:\n",
    "    item['typeinfo'] = typeInfo[item['type']]\n",
    "    size += item['typeinfo']['size']*int(item['arraysize'] or '1')\n",
    "size"
   ]
  },
  {
   "cell_type": "code",
   "execution_count": 83,
   "metadata": {},
   "outputs": [],
   "source": [
    "a={\"aa\":1}\n",
    "b={\"b\":2}\n",
    "a.update(b)"
   ]
  },
  {
   "cell_type": "code",
   "execution_count": 72,
   "metadata": {},
   "outputs": [],
   "source": [
    "a.get(\"c\",\"\")"
   ]
  },
  {
   "cell_type": "code",
   "execution_count": 121,
   "metadata": {},
   "outputs": [
    {
     "data": {
      "text/plain": [
       "dict_values([1, 2])"
      ]
     },
     "execution_count": 121,
     "metadata": {},
     "output_type": "execute_result"
    }
   ],
   "source": [
    "a.values()"
   ]
  },
  {
   "cell_type": "code",
   "execution_count": 125,
   "metadata": {},
   "outputs": [
    {
     "data": {
      "text/plain": [
       "[(1, 4), (2, 5), (3, 6)]"
      ]
     },
     "execution_count": 125,
     "metadata": {},
     "output_type": "execute_result"
    }
   ],
   "source": [
    "a=[1,2,3]\n",
    "b=[4,5,6]\n",
    "[*zip(a,b)]"
   ]
  },
  {
   "cell_type": "code",
   "execution_count": 5,
   "metadata": {},
   "outputs": [],
   "source": [
    "import bitstring"
   ]
  },
  {
   "cell_type": "code",
   "execution_count": 150,
   "metadata": {},
   "outputs": [],
   "source": [
    "protocol_info_table = {\n",
    "    'autoaim': {'id': 0x401, 'description':'for test', 'size':24, 'struct':{\n",
    "        'x':   {'format':'floatle:32'},\n",
    "        'y':   {'format':'floatle:32'},\n",
    "        'z':   {'format':'floatle:32', 'arraysize':2},\n",
    "        'test':{'struct': 'Test_Type', 'arraysize':2}\n",
    "    }},\n",
    "    'Test_Type': {'size':4, 'struct':{\n",
    "        'x':   {'format':'floatle:32'}\n",
    "    }},\n",
    "}"
   ]
  },
  {
   "cell_type": "code",
   "execution_count": 156,
   "metadata": {},
   "outputs": [
    {
     "data": {
      "text/plain": [
       "('floatle:32,floatle:32,floatle:32,floatle:32,floatle:32,floatle:32',\n",
       " [1.11, 2.22, 3.33, 4.44, 5.55, 6.66])"
      ]
     },
     "execution_count": 156,
     "metadata": {},
     "output_type": "execute_result"
    }
   ],
   "source": [
    "def pack_data(name, data):\n",
    "    formats = []\n",
    "    data_items = []\n",
    "    for (key, info) in protocol_info_table[name]['struct'].items():\n",
    "        if 'arraysize' in info:\n",
    "            data_list = data[key]\n",
    "        else:\n",
    "            data_list = [data[key]]\n",
    "        for new_data in data_list:\n",
    "            if 'struct' in info:\n",
    "                info['format'], new_data = pack_data(info['struct'], new_data)\n",
    "                data_items += new_data\n",
    "            else:\n",
    "                data_items += [new_data]\n",
    "            formats += [info['format']]\n",
    "    return (\",\".join(formats), data_items)\n",
    "\n",
    "test_data = {'x':1.11,'y':2.22,'z':[3.33,4.44],'test':[{'x':5.55},{'x':6.66}]}\n",
    "pack_data('autoaim', test_data)"
   ]
  },
  {
   "cell_type": "code",
   "execution_count": 160,
   "metadata": {},
   "outputs": [
    {
     "data": {
      "text/plain": [
       "BitStream('0x7b148e3f7b140e40b81e55407b148e409a99b140b81ed540')"
      ]
     },
     "execution_count": 160,
     "metadata": {},
     "output_type": "execute_result"
    }
   ],
   "source": [
    "def pack(name, data, seq=0, skip_crc8=False):\n",
    "    protocol_info = protocol_info_table[name]\n",
    "    packet = bitstring.pack('<BHB', *[0xa5, protocol_info['size'], seq])\n",
    "    if not skip_crc8:\n",
    "        packet += bytes([helpers.get_crc8_checksum(packet.tobytes())])\n",
    "    packet += bitstring.pack('<H', protocol_info['id'])\n",
    "    format_string, data_items = pack_data(name, data)\n",
    "    packet += bitstring.pack(format_string, *data_items)\n",
    "    packet += bitstring.pack('<H', helpers.get_crc16_checksum(packet.tobytes()))\n",
    "    return packet.tobytes()\n",
    "format_string, data_items = pack_data('autoaim', test_data)\n",
    "packet = bitstring.pack(format_string, *data_items)\n",
    "packet"
   ]
  },
  {
   "cell_type": "code",
   "execution_count": 222,
   "metadata": {},
   "outputs": [
    {
     "data": {
      "text/plain": [
       "{'x': 1.1100000143051147,\n",
       " 'y': 2.2200000286102295,\n",
       " 'z': [3.3299999237060547, 4.440000057220459],\n",
       " 'test': [{'x': 5.550000190734863}, {'x': 6.659999847412109}]}"
      ]
     },
     "execution_count": 222,
     "metadata": {},
     "output_type": "execute_result"
    }
   ],
   "source": [
    "def unpack_data(name, packet):\n",
    "    data = {}\n",
    "    format_string = ''\n",
    "    for (key, info) in protocol_info_table[name]['struct'].items():\n",
    "        new_data = []\n",
    "        for i in range(info.get('arraysize',1)):\n",
    "            if 'struct' in info:\n",
    "                size = protocol_info_table[info['struct']]['size']\n",
    "                new_data += [unpack_data(info['struct'], packet)]\n",
    "            else:\n",
    "                size = math.ceil(int(re.match('.*:(?P<bitsize>\\d*)', info['format']).group('bitsize'))/8)\n",
    "                new_data += bitstring.BitArray(bytes=packet).unpack(info['format'])\n",
    "            packet = packet[size:]\n",
    "        if 'arraysize' in info:\n",
    "            data[key] = new_data\n",
    "        else:\n",
    "            data[key] = new_data[0]\n",
    "    return data\n",
    "unpack_data('autoaim',packet.tobytes())"
   ]
  },
  {
   "cell_type": "code",
   "execution_count": 211,
   "metadata": {},
   "outputs": [],
   "source": [
    "import re\n",
    "import math"
   ]
  },
  {
   "cell_type": "code",
   "execution_count": 228,
   "metadata": {},
   "outputs": [
    {
     "data": {
      "text/plain": [
       "{}"
      ]
     },
     "execution_count": 228,
     "metadata": {},
     "output_type": "execute_result"
    }
   ],
   "source": [
    "dict([y for y in [('a',None)] if y[1]])"
   ]
  },
  {
   "cell_type": "code",
   "execution_count": 236,
   "metadata": {},
   "outputs": [],
   "source": [
    "a=[{'a':1,'b':2},{'a':1,'b':2}]"
   ]
  },
  {
   "cell_type": "code",
   "execution_count": 237,
   "metadata": {},
   "outputs": [
    {
     "name": "stdout",
     "output_type": "stream",
     "text": [
      "('a', 1) ('b', 2)\n",
      "('a', 1) ('b', 2)\n"
     ]
    }
   ],
   "source": [
    "for (interface_key,interface_id) in [x.items() for x in a]:\n",
    "    print(interface_key,interface_id)"
   ]
  },
  {
   "cell_type": "code",
   "execution_count": 249,
   "metadata": {},
   "outputs": [
    {
     "data": {
      "text/plain": [
       "[{'type': 'int32_t', 'key': 'data1', 'arraysize': None, 'bitsize': None},\n",
       " {'type': 'int32_t', 'key': 'data2', 'arraysize': None, 'bitsize': None},\n",
       " {'type': 'int32_t', 'key': 'data3', 'arraysize': '3', 'bitsize': None},\n",
       " {'type': 'int32_t', 'key': 'data4', 'arraysize': None, 'bitsize': '5'}]"
      ]
     },
     "execution_count": 249,
     "metadata": {},
     "output_type": "execute_result"
    }
   ],
   "source": [
    "test='''\n",
    "      int32_t data1;\n",
    "      int32_t data2;\n",
    "      int32_t data3[3];\n",
    "      int32_t data4:5;\n",
    "'''\n",
    "r = re.compile('\\n*?(?P<type>\\S*?)\\s*?(?P<key>\\S*?)(?:\\[(?P<arraysize>\\d*?)\\])?(?:\\s?:\\s?(?P<bitsize>\\d*?))?;')\n",
    "items = [m.groupdict() for m in r.finditer(test)]\n",
    "items"
   ]
  },
  {
   "cell_type": "code",
   "execution_count": 264,
   "metadata": {},
   "outputs": [
    {
     "name": "stdout",
     "output_type": "stream",
     "text": [
      "...\n"
     ]
    }
   ],
   "source": [
    "a=b'\\t\\x00\\x00M\\x01\\x04\\x01{\\x14\\x8e?{\\x14\\x0e@\\x00&'\n",
    "try:\n",
    "    a.index(0xa5)\n",
    "except ValueError:\n",
    "    print('...')"
   ]
  },
  {
   "cell_type": "code",
   "execution_count": 272,
   "metadata": {},
   "outputs": [
    {
     "data": {
      "text/plain": [
       "(b'\\x02', b'\\x01\\x02\\x03')"
      ]
     },
     "execution_count": 272,
     "metadata": {},
     "output_type": "execute_result"
    }
   ],
   "source": [
    "ccc=bytes([1,2,3])\n",
    "aaa=ccc\n",
    "aaa=aaa[1:2]\n",
    "aaa,ccc"
   ]
  },
  {
   "cell_type": "code",
   "execution_count": 284,
   "metadata": {},
   "outputs": [],
   "source": [
    "aaa=aaa+aaa\n"
   ]
  },
  {
   "cell_type": "code",
   "execution_count": 285,
   "metadata": {},
   "outputs": [
    {
     "data": {
      "text/plain": [
       "b'\\x02\\x02\\x02\\x02\\x02\\x02\\x02\\x02'"
      ]
     },
     "execution_count": 285,
     "metadata": {},
     "output_type": "execute_result"
    }
   ],
   "source": [
    "aaa"
   ]
  },
  {
   "cell_type": "code",
   "execution_count": null,
   "metadata": {},
   "outputs": [],
   "source": []
  }
 ],
 "metadata": {
  "kernelspec": {
   "display_name": "cv",
   "language": "python",
   "name": "cv"
  },
  "language_info": {
   "codemirror_mode": {
    "name": "ipython",
    "version": 3
   },
   "file_extension": ".py",
   "mimetype": "text/x-python",
   "name": "python",
   "nbconvert_exporter": "python",
   "pygments_lexer": "ipython3",
   "version": "3.7.7"
  }
 },
 "nbformat": 4,
 "nbformat_minor": 4
}
